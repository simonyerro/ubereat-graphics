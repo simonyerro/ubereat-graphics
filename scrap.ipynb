{
 "cells": [
  {
   "cell_type": "code",
   "execution_count": 131,
   "metadata": {},
   "outputs": [],
   "source": [
    "import requests\n",
    "from bs4 import BeautifulSoup\n",
    "import pandas as pd \n",
    "import numpy as np\n",
    "import datetime\n",
    "import dateparser "
   ]
  },
  {
   "cell_type": "code",
   "execution_count": 132,
   "metadata": {
    "tags": []
   },
   "outputs": [
    {
     "name": "stdout",
     "output_type": "stream",
     "text": [
      "nb de commandes: 69\n"
     ]
    }
   ],
   "source": [
    "with open(r'ubereat.html', \"r\") as f:\n",
    "    page = f.read()\n",
    "soup = BeautifulSoup(page)\n",
    "commandes = soup.find(\"div\", {\"class\": \"ce cf cg c8 ch\"})\n",
    "tab_commandes = commandes.find_all(\"div\", {\"class\": \"g6\"})\n",
    "print(\"nb de commandes: \" + str(len(tab_commandes)))"
   ]
  },
  {
   "cell_type": "code",
   "execution_count": 138,
   "metadata": {},
   "outputs": [],
   "source": [
    "vals = {\"resto\": [], \"date\": [], \"prix\": [], \"heure\": [], \"minute\": []}\n",
    "for obj in tab_commandes:\n",
    "    val = obj.find(\"div\", {\"class\": \"cs f5 bv d7\"}).get_text(strip=True).split(\"•\")\n",
    "    date_et_heure = val[1].replace(u'\\xa0', u' ')\n",
    "    if \"Annulée le\" in date_et_heure:\n",
    "        continue\n",
    "    (date, heure) = date_et_heure.split(\" à \")\n",
    "    (heure, minute) = heure.split(\":\")\n",
    "    vals[\"resto\"].append(obj.find(\"div\", {\"class\": \"ag bh f2 g9\"}).get_text())\n",
    "    prix = float(val[0].split(\"pour\")[-1].split(\"€\")[0].strip().replace(\",\", \".\"))\n",
    "    vals[\"date\"].append(dateparser.parse(date))\n",
    "    vals[\"heure\"].append(datetime.time(int(heure), int(minute)))\n",
    "    vals[\"prix\"].append(prix)"
   ]
  },
  {
   "cell_type": "code",
   "execution_count": 139,
   "metadata": {},
   "outputs": [],
   "source": [
    "data = {\n",
    "    \"resto\": vals[\"resto\"],\n",
    "    \"date\": vals[\"date\"],\n",
    "    \"heure\": vals[\"heure\"],\n",
    "    \"prix\": vals[\"prix\"]\n",
    "}\n",
    "dataF = pd.DataFrame(data)"
   ]
  },
  {
   "cell_type": "code",
   "execution_count": 140,
   "metadata": {},
   "outputs": [
    {
     "name": "stdout",
     "output_type": "stream",
     "text": [
      "68\n"
     ]
    }
   ],
   "source": [
    "# for date_string in vals[\"date\"]:\n",
    "#     print(dateparser.parse(date_string).date())\n",
    "print(len(vals[\"prix\"]))"
   ]
  },
  {
   "cell_type": "code",
   "execution_count": 141,
   "metadata": {},
   "outputs": [
    {
     "data": {
      "text/html": [
       "<div>\n",
       "<style scoped>\n",
       "    .dataframe tbody tr th:only-of-type {\n",
       "        vertical-align: middle;\n",
       "    }\n",
       "\n",
       "    .dataframe tbody tr th {\n",
       "        vertical-align: top;\n",
       "    }\n",
       "\n",
       "    .dataframe thead th {\n",
       "        text-align: right;\n",
       "    }\n",
       "</style>\n",
       "<table border=\"1\" class=\"dataframe\">\n",
       "  <thead>\n",
       "    <tr style=\"text-align: right;\">\n",
       "      <th></th>\n",
       "      <th>resto</th>\n",
       "      <th>date</th>\n",
       "      <th>heure</th>\n",
       "      <th>prix</th>\n",
       "    </tr>\n",
       "  </thead>\n",
       "  <tbody>\n",
       "    <tr>\n",
       "      <th>0</th>\n",
       "      <td>SMATCH BURGER</td>\n",
       "      <td>2021-01-28</td>\n",
       "      <td>13:12:00</td>\n",
       "      <td>25.52</td>\n",
       "    </tr>\n",
       "    <tr>\n",
       "      <th>1</th>\n",
       "      <td>SMATCH BURGER</td>\n",
       "      <td>2021-01-21</td>\n",
       "      <td>20:25:00</td>\n",
       "      <td>21.07</td>\n",
       "    </tr>\n",
       "    <tr>\n",
       "      <th>2</th>\n",
       "      <td>Kaiyō</td>\n",
       "      <td>2021-01-18</td>\n",
       "      <td>19:35:00</td>\n",
       "      <td>35.79</td>\n",
       "    </tr>\n",
       "    <tr>\n",
       "      <th>3</th>\n",
       "      <td>Sushi Muraguchi</td>\n",
       "      <td>2021-01-13</td>\n",
       "      <td>13:52:00</td>\n",
       "      <td>18.36</td>\n",
       "    </tr>\n",
       "    <tr>\n",
       "      <th>4</th>\n",
       "      <td>SMATCH BURGER</td>\n",
       "      <td>2021-12-31</td>\n",
       "      <td>21:29:00</td>\n",
       "      <td>21.07</td>\n",
       "    </tr>\n",
       "    <tr>\n",
       "      <th>...</th>\n",
       "      <td>...</td>\n",
       "      <td>...</td>\n",
       "      <td>...</td>\n",
       "      <td>...</td>\n",
       "    </tr>\n",
       "    <tr>\n",
       "      <th>63</th>\n",
       "      <td>SMATCH BURGER</td>\n",
       "      <td>2021-03-13</td>\n",
       "      <td>23:23:00</td>\n",
       "      <td>19.40</td>\n",
       "    </tr>\n",
       "    <tr>\n",
       "      <th>64</th>\n",
       "      <td>Wan</td>\n",
       "      <td>2021-03-07</td>\n",
       "      <td>22:38:00</td>\n",
       "      <td>17.98</td>\n",
       "    </tr>\n",
       "    <tr>\n",
       "      <th>65</th>\n",
       "      <td>Wan</td>\n",
       "      <td>2021-03-02</td>\n",
       "      <td>21:04:00</td>\n",
       "      <td>19.98</td>\n",
       "    </tr>\n",
       "    <tr>\n",
       "      <th>66</th>\n",
       "      <td>KFC - Okabe</td>\n",
       "      <td>2021-12-27</td>\n",
       "      <td>16:47:00</td>\n",
       "      <td>21.45</td>\n",
       "    </tr>\n",
       "    <tr>\n",
       "      <th>67</th>\n",
       "      <td>Burger And Grill</td>\n",
       "      <td>2021-12-10</td>\n",
       "      <td>16:15:00</td>\n",
       "      <td>0.00</td>\n",
       "    </tr>\n",
       "  </tbody>\n",
       "</table>\n",
       "<p>68 rows × 4 columns</p>\n",
       "</div>"
      ],
      "text/plain": [
       "               resto       date     heure   prix\n",
       "0      SMATCH BURGER 2021-01-28  13:12:00  25.52\n",
       "1      SMATCH BURGER 2021-01-21  20:25:00  21.07\n",
       "2              Kaiyō 2021-01-18  19:35:00  35.79\n",
       "3    Sushi Muraguchi 2021-01-13  13:52:00  18.36\n",
       "4      SMATCH BURGER 2021-12-31  21:29:00  21.07\n",
       "..               ...        ...       ...    ...\n",
       "63     SMATCH BURGER 2021-03-13  23:23:00  19.40\n",
       "64               Wan 2021-03-07  22:38:00  17.98\n",
       "65               Wan 2021-03-02  21:04:00  19.98\n",
       "66       KFC - Okabe 2021-12-27  16:47:00  21.45\n",
       "67  Burger And Grill 2021-12-10  16:15:00   0.00\n",
       "\n",
       "[68 rows x 4 columns]"
      ]
     },
     "execution_count": 141,
     "metadata": {},
     "output_type": "execute_result"
    }
   ],
   "source": [
    "dataF"
   ]
  },
  {
   "cell_type": "code",
   "execution_count": 142,
   "metadata": {},
   "outputs": [
    {
     "name": "stdout",
     "output_type": "stream",
     "text": [
      "somme:  1278.4800000000002\n",
      "moyenne:  18.80117647058824\n"
     ]
    }
   ],
   "source": [
    "print(\"somme: \", dataF[\"prix\"].sum())\n",
    "print(\"moyenne: \", dataF[\"prix\"].mean())"
   ]
  },
  {
   "cell_type": "code",
   "execution_count": 143,
   "metadata": {},
   "outputs": [
    {
     "name": "stdout",
     "output_type": "stream",
     "text": [
      "                                       resto       date     heure   prix\n",
      "0                              SMATCH BURGER 2021-01-28  13:12:00  25.52\n",
      "1                              SMATCH BURGER 2021-01-21  20:25:00  21.07\n",
      "2                                      Kaiyō 2021-01-18  19:35:00  35.79\n",
      "3                            Sushi Muraguchi 2021-01-13  13:52:00  18.36\n",
      "4                              SMATCH BURGER 2021-12-31  21:29:00  21.07\n",
      "5                              SMATCH BURGER 2021-12-30  12:54:00  21.07\n",
      "6      Out-Fry 18 - Korean Chicken by Taster 2021-12-23  13:10:00  61.59\n",
      "7      Five Pizza Original - Kremlin-Bicetre 2021-12-21  23:02:00   9.84\n",
      "8                              SMATCH BURGER 2021-12-20  20:51:00  21.07\n",
      "9                                        Wan 2021-12-18  23:19:00  24.09\n",
      "10                             SMATCH BURGER 2021-12-13  12:34:00  17.24\n",
      "11                         Subway® - Tolbiac 2021-12-11  12:18:00  15.08\n",
      "12                 Bozen - Charenton-le-Pont 2021-12-02  14:15:00  21.08\n",
      "13                 Subway® - Kremlin-Bicêtre 2021-11-26  12:30:00  10.67\n",
      "14                          Aloy Thaï - Ivry 2021-11-12  21:01:00  28.77\n",
      "15                   Sushi Gourmet - Tolbiac 2021-11-03  15:06:00  18.38\n",
      "16               Original Burger and Poutine 2021-10-31  22:09:00  24.83\n",
      "17              Les Burgers de Papa - Alesia 2021-10-30  22:48:00  18.04\n",
      "18                          Aloy Thaï - Ivry 2021-10-24  23:20:00  17.83\n",
      "19                          Aloy Thaï - Ivry 2021-10-14  22:19:00  19.48\n",
      "20                                     Kaiyō 2021-10-10  23:26:00  27.34\n",
      "21                                     Kaiyō 2021-10-03  22:32:00  17.49\n",
      "22     Out-Fry 13 - Korean Chicken by Taster 2021-09-27  20:35:00  28.87\n",
      "23             Le Bon Poulet - Aubervilliers 2021-09-26  00:47:00  12.72\n",
      "24                                     Kaiyō 2021-09-19  22:53:00  15.00\n",
      "25             Subway® - Avenue des Gobelins 2021-09-15  00:34:00  16.18\n",
      "26                                       Wan 2021-09-13  22:50:00  18.09\n",
      "27                 Bozen - Charenton-le-Pont 2021-09-07  14:03:00  21.58\n",
      "28                 Subway® - Kremlin-Bicêtre 2021-09-02  20:31:00  13.31\n",
      "29                                       Wan 2021-08-26  17:06:00  18.59\n",
      "30     Out-Fry 13 - Korean Chicken by Taster 2021-08-23  16:34:00  16.12\n",
      "31                                       Wan 2021-08-19  16:54:00  13.09\n",
      "32                          Aloy Thaï - Ivry 2021-08-16  21:12:00  17.43\n",
      "33                          Aloy Thaï - Ivry 2021-08-13  22:18:00  14.68\n",
      "34                   Sushi Gourmet - Tolbiac 2021-08-11  15:10:00  21.29\n",
      "35                                       Wan 2021-08-08  14:27:00  13.09\n",
      "36                                       Wan 2021-08-03  17:06:00  15.40\n",
      "37                 Bozen - Charenton-le-Pont 2021-07-29  12:29:00  20.59\n",
      "38     Out-Fry 13 - Korean Chicken by Taster 2021-07-22  21:40:00  18.12\n",
      "39                 Bozen - Charenton-le-Pont 2021-07-20  14:45:00  20.59\n",
      "40                                       Wan 2021-07-15  16:47:00  24.09\n",
      "41                   PB Poulet Braisé - Ivry 2021-07-03  22:46:00  13.14\n",
      "42              Mak Chicken - Ivry-sur-Seine 2021-07-01  22:26:00  15.84\n",
      "43                                 Shinotaku 2021-06-29  13:58:00   0.00\n",
      "44                   PB Poulet Braisé - Ivry 2021-06-17  15:37:00  17.99\n",
      "45         Aloy Thaï - Ivry5 étoile(s) sur 5 2021-06-11  13:00:00  16.18\n",
      "46                    Kaiyō5 étoile(s) sur 5 2021-06-03  14:09:00  17.98\n",
      "47  PB Poulet Braisé - Ivry5 étoile(s) sur 5 2021-05-22  23:29:00  23.59\n",
      "48  PB Poulet Braisé - Ivry5 étoile(s) sur 5 2021-05-19  22:35:00  16.44\n",
      "49                                     Kaiyō 2021-05-15  12:50:00  22.49\n",
      "50         Aloy Thaï - Ivry5 étoile(s) sur 5 2021-05-11  22:47:00  29.37\n",
      "51         Aloy Thaï - Ivry5 étoile(s) sur 5 2021-04-29  22:32:00  18.90\n",
      "52         Aloy Thaï - Ivry5 étoile(s) sur 5 2021-04-22  22:32:00  21.90\n",
      "53                          Aloy Thaï - Ivry 2021-04-16  22:01:00  16.40\n",
      "54         Aloy Thaï - Ivry5 étoile(s) sur 5 2021-04-15  21:35:00  18.21\n",
      "55                             SMATCH BURGER 2021-04-11  22:56:00  13.90\n",
      "56                  Chick'end Café - Bagneux 2021-04-02  21:42:00   9.71\n",
      "57                      Afrik'n'fusion - 13e 2021-03-31  21:22:00  18.00\n",
      "58            SMATCH BURGER4 étoile(s) sur 5 2021-03-30  23:28:00  16.90\n",
      "59                          Pizza Hut - Ivry 2021-03-28  16:08:00  15.80\n",
      "60                          Pizza Hut - Ivry 2021-03-25  20:16:00  17.90\n",
      "61                      Afrik'n'fusion - 13e 2021-03-20  22:10:00   8.50\n",
      "62     Five Pizza Original - Kremlin-Bicetre 2021-03-14  22:59:00  16.00\n",
      "63                             SMATCH BURGER 2021-03-13  23:23:00  19.40\n",
      "64                                       Wan 2021-03-07  22:38:00  17.98\n",
      "65                                       Wan 2021-03-02  21:04:00  19.98\n",
      "66                               KFC - Okabe 2021-12-27  16:47:00  21.45\n",
      "67                          Burger And Grill 2021-12-10  16:15:00   0.00\n"
     ]
    }
   ],
   "source": [
    "with pd.option_context('display.max_rows', None, 'display.max_columns', None):  # more options can be specified also\n",
    "    print(dataF)"
   ]
  },
  {
   "cell_type": "code",
   "execution_count": 1,
   "metadata": {},
   "outputs": [
    {
     "data": {
      "image/png": "[encoded data removed]",
      "text/plain": [
       "<Figure size 432x288 with 1 Axes>"
      ]
     },
     "metadata": {
      "needs_background": "light"
     },
     "output_type": "display_data"
    }
   ],
   "source": [
    "import numpy as np\n",
    "import matplotlib.pyplot as plt\n",
    "\n",
    "x = np.array([1, 3, 4, 6])\n",
    "y = np.array([2, 3, 5, 1])\n",
    "plt.plot(x, y)\n",
    "\n",
    "plt.show() # affiche la figure a l'ecran"
   ]
  },
  {
   "cell_type": "code",
   "execution_count": null,
   "metadata": {},
   "outputs": [],
   "source": []
  }
 ],
 "metadata": {
  "kernelspec": {
   "display_name": "Python 3",
   "language": "python",
   "name": "python3"
  },
  "language_info": {
   "codemirror_mode": {
    "name": "ipython",
    "version": 3
   },
   "file_extension": ".py",
   "mimetype": "text/x-python",
   "name": "python",
   "nbconvert_exporter": "python",
   "pygments_lexer": "ipython3",
   "version": "3.8.5"
  }
 },
 "nbformat": 4,
 "nbformat_minor": 2
}
